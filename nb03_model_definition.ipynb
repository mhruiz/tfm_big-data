{
 "cells": [
  {
   "cell_type": "markdown",
   "metadata": {},
   "source": [
    "## Import libraries"
   ]
  },
  {
   "cell_type": "code",
   "execution_count": 1,
   "metadata": {},
   "outputs": [],
   "source": [
    "from sklearn.compose import ColumnTransformer\n",
    "from sklearn.datasets import fetch_openml\n",
    "from sklearn.pipeline import Pipeline\n",
    "from sklearn.preprocessing import OneHotEncoder, StandardScaler\n",
    "\n",
    "from sklearn.model_selection import train_test_split, cross_val_score\n",
    "\n",
    "import pandas as pd\n",
    "\n",
    "from lib.data import constants"
   ]
  },
  {
   "cell_type": "markdown",
   "metadata": {},
   "source": [
    "## Preprocessing\n",
    "\n",
    "Process data in different ways depending on if they are numerical or categorical"
   ]
  },
  {
   "cell_type": "code",
   "execution_count": 2,
   "metadata": {},
   "outputs": [],
   "source": [
    "df = pd.read_csv(constants.PROCESSED_DIR + 'processed_data.csv')"
   ]
  },
  {
   "cell_type": "code",
   "execution_count": 3,
   "metadata": {},
   "outputs": [
    {
     "name": "stdout",
     "output_type": "stream",
     "text": [
      "Total data: (1173, 9)\n"
     ]
    }
   ],
   "source": [
    "# https://scikit-learn.org/stable/auto_examples/compose/plot_column_transformer_mixed_types.html\n",
    "\n",
    "# input cols\n",
    "# ['week', 'intensity', 'occupation', 'congestion', 'is_holiday', 'daypart']\n",
    "# \n",
    "# numerical: intensity, occupation and congestion\n",
    "# categorical: week, is_holiday, daypart\n",
    "\n",
    "numeric_features = [\n",
    "    'intensity',\n",
    "    'occupation',\n",
    "    'congestion'\n",
    "]\n",
    "\n",
    "num_transformer = StandardScaler()\n",
    "\n",
    "categorical_features = [\n",
    "    'week',\n",
    "    'daypart',\n",
    "    'is_holiday'\n",
    "]\n",
    "\n",
    "cat_transformer = OneHotEncoder(handle_unknown='ignore')\n",
    "\n",
    "input_cols = categorical_features + numeric_features\n",
    "\n",
    "preprocessor = ColumnTransformer(\n",
    "    transformers=[\n",
    "        ('numeric', num_transformer, numeric_features),\n",
    "        ('categorical', cat_transformer, categorical_features)\n",
    "    ]\n",
    ")\n",
    "\n",
    "output_cols = [\n",
    "    'avg_noise', \n",
    "    'p10',\n",
    "    'p90'\n",
    "]\n",
    "\n",
    "df_train = df[input_cols + output_cols].dropna().drop_duplicates() # remove NaN\n",
    "\n",
    "print('Total data:', df_train.shape)\n",
    "\n",
    "df_train_2 = df_train.copy(deep=True)\n",
    "\n",
    "# normalize noise data using min-max scaler\n",
    "# use all available data\n",
    "min_max_values = {}\n",
    "\n",
    "for c in output_cols:\n",
    "\n",
    "    min_ = df_train_2[c].min()\n",
    "    max_ = df_train_2[c].max()\n",
    "\n",
    "    min_max_values[c] = (min_, max_)\n",
    "\n",
    "    df_train_2[c] = (df_train_2[c] - min_) / (max_ - min_)\n"
   ]
  },
  {
   "cell_type": "markdown",
   "metadata": {},
   "source": [
    "### Train some models\n",
    "\n"
   ]
  },
  {
   "cell_type": "code",
   "execution_count": 12,
   "metadata": {},
   "outputs": [
    {
     "name": "stdout",
     "output_type": "stream",
     "text": [
      "Train dataset: 997\n",
      "Test dataset: 176\n"
     ]
    }
   ],
   "source": [
    "X, y = df_train_2[input_cols], df_train_2[output_cols]\n",
    "\n",
    "X_train, X_test, y_train, y_test = train_test_split(X, y, test_size=0.15, random_state=42)\n",
    "\n",
    "print('Train dataset:', X_train.shape[0])\n",
    "print('Test dataset:', X_test.shape[0])"
   ]
  },
  {
   "cell_type": "code",
   "execution_count": 24,
   "metadata": {},
   "outputs": [
    {
     "name": "stdout",
     "output_type": "stream",
     "text": [
      "Linear model R2 score: 0.921993197688553\n",
      "Random forest R2 score: 0.9561706407597205\n",
      "MLP R2 score: 0.9062890834156491\n"
     ]
    }
   ],
   "source": [
    "from sklearn.neural_network import MLPRegressor\n",
    "from sklearn.linear_model import LinearRegression\n",
    "from sklearn.ensemble import RandomForestRegressor\n",
    "\n",
    "linear_model = Pipeline([\n",
    "    ('preprocessor', preprocessor),\n",
    "    ('model', LinearRegression())\n",
    "])\n",
    "\n",
    "mlp_model = Pipeline([\n",
    "    ('preprocessor', preprocessor),\n",
    "    ('model', MLPRegressor(hidden_layer_sizes=(150,50), max_iter=500))\n",
    "])\n",
    "\n",
    "rf_model = RandomForestRegressor()\n",
    "\n",
    "# Train and evaluate on test\n",
    "\n",
    "linear_model.fit(X_train, y_train)\n",
    "print('Linear model R2 score:', linear_model.score(X_test, y_test))\n",
    "\n",
    "rf_model.fit(X_train, y_train)\n",
    "print('Random forest R2 score:', rf_model.score(X_test, y_test))\n",
    "\n",
    "mlp_model.fit(X_train, y_train)\n",
    "print('MLP R2 score:', mlp_model.score(X_test, y_test))"
   ]
  },
  {
   "cell_type": "markdown",
   "metadata": {},
   "source": [
    "All three models seem to have a high R2 score.\n",
    "\n",
    "Let's see if we can improve these results with a grid search of hyperparams and CV"
   ]
  },
  {
   "cell_type": "code",
   "execution_count": 21,
   "metadata": {},
   "outputs": [
    {
     "name": "stdout",
     "output_type": "stream",
     "text": [
      "Linear model CV scores: [0.87747776 0.89988492 0.90147513 0.90672168 0.88487993]\n",
      "Random Forest best params:\n",
      "{'criterion': 'absolute_error', 'max_depth': 4, 'n_estimators': 200}\n",
      "CV R2 score: 0.925\n",
      "MLP best params:\n",
      "{'model__hidden_layer_sizes': (250, 150, 50), 'model__learning_rate': 'invscaling', 'model__learning_rate_init': 0.01}\n",
      "CV R2 score: 0.913\n"
     ]
    }
   ],
   "source": [
    "from sklearn.model_selection import GridSearchCV, cross_val_score\n",
    "\n",
    "linear_model = Pipeline([\n",
    "    ('preprocessor', preprocessor),\n",
    "    ('model', LinearRegression())\n",
    "])\n",
    "\n",
    "mlp_model = Pipeline([\n",
    "    ('preprocessor', preprocessor),\n",
    "    ('model', MLPRegressor())\n",
    "])\n",
    "\n",
    "rf_model = RandomForestRegressor()\n",
    "\n",
    "print('Linear model CV scores:', cross_val_score(linear_model, X_train, y_train, scoring='r2', cv=5))\n",
    "\n",
    "######################################\n",
    "\n",
    "rf_param_grid = {\n",
    "    'n_estimators': [100, 150, 200],\n",
    "    'criterion': [\"squared_error\", \"absolute_error\"],\n",
    "    'max_depth': [2, 3, 4],\n",
    "}\n",
    "\n",
    "rf_grid_search = GridSearchCV(rf_model, rf_param_grid, cv=5, scoring='r2')\n",
    "rf_grid_search.fit(X_train, y_train) # ~2m\n",
    "\n",
    "print(\"Random Forest best params:\")\n",
    "print(rf_grid_search.best_params_)\n",
    "\n",
    "print(f\"CV R2 score: {rf_grid_search.best_score_:.3f}\")\n",
    "\n",
    "######################################\n",
    "\n",
    "mlp_param_grid = {\n",
    "    'model__hidden_layer_sizes': [(150,50), (200, 100), (250, 150, 50), (300, 200, 100)],\n",
    "    'model__learning_rate': ['constant', 'adaptive', 'invscaling'],\n",
    "    'model__learning_rate_init': [0.001, 0.0001, 0.01]\n",
    "}\n",
    "\n",
    "mlp_grid_search = GridSearchCV(mlp_model, mlp_param_grid, cv=5, scoring='r2')\n",
    "mlp_grid_search.fit(X_train, y_train) # ~5m\n",
    "\n",
    "print(\"MLP best params:\")\n",
    "print(mlp_grid_search.best_params_)\n",
    "\n",
    "print(f\"CV R2 score: {mlp_grid_search.best_score_:.3f}\")\n"
   ]
  },
  {
   "cell_type": "markdown",
   "metadata": {},
   "source": [
    "Check their scores on test dataset"
   ]
  },
  {
   "cell_type": "code",
   "execution_count": 23,
   "metadata": {},
   "outputs": [
    {
     "name": "stdout",
     "output_type": "stream",
     "text": [
      "Random forest R2 score: 0.9415087959705626\n",
      "MLP R2 score: 0.9362963457578001\n"
     ]
    }
   ],
   "source": [
    "print('Random forest R2 score:', rf_grid_search.score(X_test, y_test))\n",
    "print('MLP R2 score:', mlp_grid_search.score(X_test, y_test))"
   ]
  },
  {
   "cell_type": "markdown",
   "metadata": {},
   "source": [
    "It seems that there is no overfitting, so, let's see which model fits all data better"
   ]
  },
  {
   "cell_type": "code",
   "execution_count": 26,
   "metadata": {},
   "outputs": [
    {
     "name": "stdout",
     "output_type": "stream",
     "text": [
      "Linear model R2 score: 0.9110059993576914\n",
      "Random forest R2 score: 0.9393538586406082\n",
      "MLP R2 score: 0.9598444682647972\n"
     ]
    }
   ],
   "source": [
    "final_linear_model = Pipeline([\n",
    "    ('preprocessor', preprocessor),\n",
    "    ('model', LinearRegression())\n",
    "])\n",
    "\n",
    "final_mlp_model = Pipeline([\n",
    "    ('preprocessor', preprocessor),\n",
    "    ('model', MLPRegressor(hidden_layer_sizes=(250,150,50), learning_rate='invscaling', learning_rate_init=0.01))\n",
    "])\n",
    "\n",
    "final_rf_model = RandomForestRegressor(criterion='absolute_error', max_depth=4, n_estimators=200)\n",
    "\n",
    "final_linear_model.fit(X, y)\n",
    "print('Linear model R2 score:', final_linear_model.score(X, y))\n",
    "\n",
    "final_rf_model.fit(X, y)\n",
    "print('Random forest R2 score:', final_rf_model.score(X, y))\n",
    "\n",
    "final_mlp_model.fit(X, y)\n",
    "print('MLP R2 score:', final_mlp_model.score(X, y))"
   ]
  },
  {
   "cell_type": "code",
   "execution_count": 30,
   "metadata": {},
   "outputs": [
    {
     "data": {
      "image/png": "[encoded data removed]",
      "text/plain": [
       "<Figure size 1200x400 with 3 Axes>"
      ]
     },
     "metadata": {},
     "output_type": "display_data"
    }
   ],
   "source": [
    "import matplotlib.pyplot as plt\n",
    "\n",
    "import numpy as np\n",
    "\n",
    "predictions = pd.DataFrame(final_mlp_model.predict(X), columns=output_cols)\n",
    "predictions = pd.concat([X, predictions], axis=1)\n",
    "\n",
    "ind = np.round(np.linspace(0, df.shape[0]-1, 8)).astype(int)\n",
    "years_weeks = df['year_month'].values[ind]\n",
    "\n",
    "_, axs = plt.subplots(1,3,figsize=(12,4))\n",
    "for i, c in enumerate(output_cols):\n",
    "    plt.subplot(1,3,i+1)\n",
    "    # aux_2.set_index(['year', 'month', 'day'])[c].plot(rot=45)\n",
    "    df_train_2[c].plot(label='Original')\n",
    "    predictions[c].plot(label='Prediction')\n",
    "\n",
    "    plt.xticks(df.index[ind], years_weeks)\n",
    "    plt.gcf().autofmt_xdate()\n",
    "\n",
    "    plt.legend(loc='best')\n",
    "    plt.title(c)\n",
    "plt.show()"
   ]
  },
  {
   "cell_type": "code",
   "execution_count": 35,
   "metadata": {},
   "outputs": [
    {
     "data": {
      "text/plain": [
       "0.9598444682647972"
      ]
     },
     "execution_count": 35,
     "metadata": {},
     "output_type": "execute_result"
    }
   ],
   "source": [
    "from joblib import dump, load\n",
    "import os\n",
    "\n",
    "if not os.path.exists(constants.MODEL_DIR):\n",
    "    os.mkdir(constants.MODEL_DIR)\n",
    "\n",
    "dump(final_mlp_model, constants.MODEL_DIR + 'trained_model.joblib')\n",
    "\n",
    "dump(min_max_values, constants.MODEL_DIR + 'norm_values_output.joblib')\n",
    "\n",
    "# test if the model has been loaded corrected\n",
    "loaded_model = load(constants.MODEL_DIR + 'trained_model.joblib')\n",
    "\n",
    "loaded_model.score(X, y)"
   ]
  }
 ],
 "metadata": {
  "kernelspec": {
   "display_name": "Python 3.7.13 ('TF24')",
   "language": "python",
   "name": "python3"
  },
  "language_info": {
   "codemirror_mode": {
    "name": "ipython",
    "version": 3
   },
   "file_extension": ".py",
   "mimetype": "text/x-python",
   "name": "python",
   "nbconvert_exporter": "python",
   "pygments_lexer": "ipython3",
   "version": "3.7.13"
  },
  "orig_nbformat": 4,
  "vscode": {
   "interpreter": {
    "hash": "57d894b5ce0c806432e9212480d70e6bd3284b887ee5031a842a92a7f6cfbec6"
   }
  }
 },
 "nbformat": 4,
 "nbformat_minor": 2
}
